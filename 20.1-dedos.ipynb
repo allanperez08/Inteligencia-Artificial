{
 "cells": [
  {
   "cell_type": "code",
   "execution_count": 1,
   "id": "f25cc6c4",
   "metadata": {},
   "outputs": [],
   "source": [
    "import cv2\n",
    "import mediapipe as mp\n",
    "import math\n"
   ]
  },
  {
   "cell_type": "code",
   "execution_count": 2,
   "id": "bf9916aa",
   "metadata": {},
   "outputs": [],
   "source": [
    "mp_drawing = mp.solutions.drawing_utils\n",
    "mp_hands = mp.solutions.hands"
   ]
  },
  {
   "cell_type": "code",
   "execution_count": 3,
   "id": "0a9e14ce",
   "metadata": {},
   "outputs": [],
   "source": [
    "def distancia(p1, p2):\n",
    "    return math.sqrt((p2.x - p1.x) ** 2 + (p2.y - p1.y) ** 2)"
   ]
  },
  {
   "cell_type": "code",
   "execution_count": 4,
   "id": "359bb648",
   "metadata": {},
   "outputs": [],
   "source": [
    "# funcion para determinar si un dedo esta levantado o no\n",
    "\n",
    "# tip = punta\n",
    "# pip = primera articulacion\n",
    "# dip = segunda articulacion\n",
    "# mcp = metacarpiana (base del dedo)\n",
    "def dedo_levantado(landmarks, dedo_tip, dedo_dip, dedo_pip, dedo_mcp, umbral=0.1):\n",
    "    # comparar la posición \"y\" del punto a la punta con los puntos anteriores\n",
    "    return (\n",
    "        landmarks[dedo_tip].y < landmarks[dedo_dip].y\n",
    "        and landmarks[dedo_dip].y < landmarks[dedo_pip].y\n",
    "        and landmarks[dedo_pip].y < landmarks[dedo_mcp].y\n",
    "    )\n",
    "ruta = 'manos.jpg'"
   ]
  },
  {
   "cell_type": "code",
   "execution_count": 12,
   "id": "81bc1f19",
   "metadata": {},
   "outputs": [
    {
     "name": "stdout",
     "output_type": "stream",
     "text": [
      "Handedness: [classification {\n",
      "  index: 0\n",
      "  score: 0.986841381\n",
      "  label: \"Left\"\n",
      "}\n",
      ", classification {\n",
      "  index: 1\n",
      "  score: 0.953673\n",
      "  label: \"Right\"\n",
      "}\n",
      "]\n"
     ]
    }
   ],
   "source": [
    "with mp_hands.Hands(\n",
    "    static_image_mode=True,\n",
    "    max_num_hands=2,\n",
    "    min_detection_confidence=0.5) as hands:\n",
    "    image=cv2.imread(ruta)\n",
    "    height, width, _ = image.shape\n",
    "    image = cv2.flip(image, 1)\n",
    "    image_rgb = cv2.cvtColor(image, cv2.COLOR_BGR2RGB)\n",
    "    results = hands.process(image_rgb)\n",
    "\n",
    "    print('Handedness:', results.multi_handedness)\n"
   ]
  },
  {
   "cell_type": "code",
   "execution_count": 13,
   "id": "9ec106a2",
   "metadata": {},
   "outputs": [],
   "source": [
    "if results.multi_hand_landmarks:\n",
    "    for hands_landmarks in results.multi_hand_landmarks:\n",
    "        # Dibujar las marcas y conexiones\n",
    "        mp_drawing.draw_landmarks(image, hands_landmarks, mp_hands.HAND_CONNECTIONS)\n",
    "        # Obtener las marcas como una lista\n",
    "        landmarks = hands_landmarks.landmark\n",
    "\n",
    "        # Definir los indices de los puntos de los dedos (según MediaPipe)\n",
    "        PULGAR_TIP = 4\n",
    "        INDICE_TIP = 8\n",
    "        MEDIO_TIP = 12\n",
    "        ANULAR_TIP = 16\n",
    "        MENIQUE_TIP = 20"
   ]
  },
  {
   "cell_type": "code",
   "execution_count": 7,
   "id": "6a30db02",
   "metadata": {},
   "outputs": [],
   "source": [
    "# Puntos para cada dedo (tip, dip, pip, mcp)\n",
    "dedos = {\n",
    "    'Pulgar': (PULGAR_TIP, 2, 1, 0),\n",
    "    'Indice': (INDICE_TIP, 6, 5, 0),\n",
    "    'Medio': (MEDIO_TIP, 10, 9, 0),\n",
    "    'Anular': (ANULAR_TIP, 14, 13, 0),\n",
    "    'Menique': (MENIQUE_TIP, 18, 17, 0)\n",
    "}"
   ]
  },
  {
   "cell_type": "code",
   "execution_count": 14,
   "id": "9f81d1f4",
   "metadata": {},
   "outputs": [
    {
     "name": "stdout",
     "output_type": "stream",
     "text": [
      "Dedos levantados: ['Pulgar', 'Indice', 'Medio', 'Anular', 'Menique']\n"
     ]
    }
   ],
   "source": [
    "# Verificar que dedos estan levantados\n",
    "dedos_levantados = []\n",
    "for nombre, (tip, dip, pip, mcp) in dedos.items():\n",
    "    if dedo_levantado(landmarks, tip, dip, pip, mcp):\n",
    "        dedos_levantados.append(nombre)\n",
    "\n",
    "print('Dedos levantados:', dedos_levantados)"
   ]
  },
  {
   "cell_type": "code",
   "execution_count": 18,
   "id": "002e3ba3",
   "metadata": {},
   "outputs": [
    {
     "data": {
      "text/plain": [
       "array([[[21, 22, 18],\n",
       "        [21, 22, 18],\n",
       "        [22, 23, 19],\n",
       "        ...,\n",
       "        [16, 17, 13],\n",
       "        [16, 17, 13],\n",
       "        [16, 17, 13]],\n",
       "\n",
       "       [[21, 22, 18],\n",
       "        [21, 22, 18],\n",
       "        [22, 23, 19],\n",
       "        ...,\n",
       "        [16, 17, 13],\n",
       "        [16, 17, 13],\n",
       "        [16, 17, 13]],\n",
       "\n",
       "       [[22, 23, 19],\n",
       "        [22, 23, 19],\n",
       "        [21, 22, 18],\n",
       "        ...,\n",
       "        [16, 17, 13],\n",
       "        [16, 17, 13],\n",
       "        [16, 17, 13]],\n",
       "\n",
       "       ...,\n",
       "\n",
       "       [[12, 13,  9],\n",
       "        [12, 13,  9],\n",
       "        [12, 13,  9],\n",
       "        ...,\n",
       "        [11, 12,  8],\n",
       "        [11, 12,  8],\n",
       "        [11, 12,  8]],\n",
       "\n",
       "       [[12, 13,  9],\n",
       "        [12, 13,  9],\n",
       "        [12, 13,  9],\n",
       "        ...,\n",
       "        [11, 12,  8],\n",
       "        [11, 12,  8],\n",
       "        [11, 12,  8]],\n",
       "\n",
       "       [[12, 13,  9],\n",
       "        [12, 13,  9],\n",
       "        [12, 13,  9],\n",
       "        ...,\n",
       "        [11, 12,  8],\n",
       "        [11, 12,  8],\n",
       "        [11, 12,  8]]], dtype=uint8)"
      ]
     },
     "execution_count": 18,
     "metadata": {},
     "output_type": "execute_result"
    }
   ],
   "source": [
    "# Mostrar los dedos levantados en la imagen\n",
    "cv2.putText(\n",
    "    image, \n",
    "    f\"Dedos: {','.join(dedos_levantados)}\", (10,30), cv2.FONT_HERSHEY_SIMPLEX,1,(0,255,0), 2)"
   ]
  },
  {
   "cell_type": "code",
   "execution_count": 21,
   "id": "cebad28f",
   "metadata": {},
   "outputs": [],
   "source": [
    "# Mostrar la imagen resultante\n",
    "cv2.imshow('Imagen', image) \n",
    "cv2.waitKey(0)\n",
    "cv2.destroyAllWindows()"
   ]
  },
  {
   "cell_type": "code",
   "execution_count": null,
   "id": "eeedfde8",
   "metadata": {},
   "outputs": [],
   "source": []
  }
 ],
 "metadata": {
  "kernelspec": {
   "display_name": "Python 3",
   "language": "python",
   "name": "python3"
  },
  "language_info": {
   "codemirror_mode": {
    "name": "ipython",
    "version": 3
   },
   "file_extension": ".py",
   "mimetype": "text/x-python",
   "name": "python",
   "nbconvert_exporter": "python",
   "pygments_lexer": "ipython3",
   "version": "3.11.9"
  }
 },
 "nbformat": 4,
 "nbformat_minor": 5
}
