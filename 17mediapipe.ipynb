{
 "cells": [
  {
   "cell_type": "code",
   "execution_count": 1,
   "metadata": {},
   "outputs": [],
   "source": [
    "# Módulos necesarios\n",
    "import cv2\n",
    "import numpy as np\n",
    "# Desde la web\n",
    "# import requests\n",
    "import mediapipe as mp"
   ]
  },
  {
   "cell_type": "code",
   "execution_count": 2,
   "metadata": {},
   "outputs": [],
   "source": [
    "# Paso 1: Cargar imagen\n",
    "ruta = 'IMAGES/rostross.jpg'\n",
    "# Desde la web\n",
    "# response = requecvsts.get(url)\n",
    "# image_arry = np.asarry(bytearray(response.conten), dtype=np.uint8)\n",
    "# image = cv2.imdecode(image_array, cv2.IMREAD_COLOR)\n",
    "image = cv2.imread(ruta)"
   ]
  },
  {
   "cell_type": "code",
   "execution_count": 3,
   "metadata": {},
   "outputs": [],
   "source": [
    "# Paso 2: Inicializar la detección de rostos de MediaPipe\n",
    "mp_face_detection = mp.solutions.face_detection\n",
    "mp_drawing = mp.solutions.drawing_utils"
   ]
  },
  {
   "cell_type": "code",
   "execution_count": 4,
   "metadata": {},
   "outputs": [],
   "source": [
    "# Paso 3: Usar el modelo con la imagen\n",
    "with mp_face_detection.FaceDetection(model_selection=1, min_detection_confidence=0.5) as face_detection:\n",
    "    # Convertir imagen a RGB\n",
    "    image_rgb  = cv2.cvtColor(image, cv2.COLOR_BGR2RGB)\n",
    "    # Procesar la imagen\n",
    "    results = face_detection.process(image_rgb)\n",
    "    #Dibujar los resultados\n",
    "    if results.detections:\n",
    "        for detection in results.detections:\n",
    "            mp_drawing.draw_detection(image, detection)"
   ]
  },
  {
   "cell_type": "code",
   "execution_count": null,
   "metadata": {},
   "outputs": [],
   "source": []
  },
  {
   "cell_type": "code",
   "execution_count": 5,
   "metadata": {},
   "outputs": [],
   "source": [
    "# Paso 4: Mostrar la imagen con detecciones\n",
    "cv2.imshow('Detección de rostros', image)\n",
    "cv2.waitKey(0)\n",
    "cv2.destroyAllWindows()"
   ]
  },
  {
   "cell_type": "code",
   "execution_count": null,
   "metadata": {},
   "outputs": [],
   "source": []
  }
 ],
 "metadata": {
  "kernelspec": {
   "display_name": "Python 3",
   "language": "python",
   "name": "python3"
  },
  "language_info": {
   "codemirror_mode": {
    "name": "ipython",
    "version": 3
   },
   "file_extension": ".py",
   "mimetype": "text/x-python",
   "name": "python",
   "nbconvert_exporter": "python",
   "pygments_lexer": "ipython3",
   "version": "3.11.9"
  }
 },
 "nbformat": 4,
 "nbformat_minor": 2
}
